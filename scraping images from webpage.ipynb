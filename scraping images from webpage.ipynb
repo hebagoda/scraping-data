{
 "cells": [
  {
   "cell_type": "code",
   "execution_count": 1,
   "metadata": {},
   "outputs": [],
   "source": [
    "import requests\n",
    "from bs4 import BeautifulSoup\n",
    "from PIL import Image"
   ]
  },
  {
   "cell_type": "code",
   "execution_count": 2,
   "metadata": {},
   "outputs": [],
   "source": [
    "url='https://te.eg/wps/portal/te/Personal'\n",
    "page=requests.get(url)\n",
    "html = page.text\n",
    "soup=BeautifulSoup(html)"
   ]
  },
  {
   "cell_type": "code",
   "execution_count": 3,
   "metadata": {},
   "outputs": [
    {
     "name": "stdout",
     "output_type": "stream",
     "text": [
      "https://te.eg/TEStaticThemeResidential8/themes/Portal8.0/css/tedata/images/svgfallback/logo.png\n"
     ]
    }
   ],
   "source": [
    "l_image=soup.find_all('img')\n",
    "images=[]\n",
    "for item in l_image:\n",
    "    images.append('https://te.eg'+item['src'])\n",
    "print(images[5])"
   ]
  },
  {
   "cell_type": "code",
   "execution_count": 4,
   "metadata": {},
   "outputs": [],
   "source": [
    "count=0\n",
    "for i in images:\n",
    "    count+=1\n",
    "    if  i.split('/')[-1]=='triangle.png' or i.split('/')[-1]=='blank.gif' :\n",
    "        continue\n",
    "    im = Image.open(requests.get(i,stream=True).raw)\n",
    "    im.save(\"C:\\\\Users\\\\DELL\\\\Downloads\\\\scr_images\\\\\"+str(count)+'.png')"
   ]
  },
  {
   "cell_type": "code",
   "execution_count": null,
   "metadata": {},
   "outputs": [],
   "source": []
  }
 ],
 "metadata": {
  "kernelspec": {
   "display_name": "Python 3",
   "language": "python",
   "name": "python3"
  },
  "language_info": {
   "codemirror_mode": {
    "name": "ipython",
    "version": 3
   },
   "file_extension": ".py",
   "mimetype": "text/x-python",
   "name": "python",
   "nbconvert_exporter": "python",
   "pygments_lexer": "ipython3",
   "version": "3.6.11"
  }
 },
 "nbformat": 4,
 "nbformat_minor": 4
}
